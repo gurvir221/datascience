{
 "cells": [
  {
   "cell_type": "code",
   "execution_count": null,
   "metadata": {},
   "outputs": [],
   "source": [
    "import pandas as pd\n",
    "import matplotlib.pyplot as plt\n",
    "import numpy as np"
   ]
  },
  {
   "cell_type": "markdown",
   "metadata": {},
   "source": [
    "# 1. Clean the data. Detect and remove outliers."
   ]
  },
  {
   "cell_type": "code",
   "execution_count": null,
   "metadata": {},
   "outputs": [],
   "source": [
    "delhi_data = pd.read_csv(\"testset.csv\",parse_dates=['datetime_utc'],skipinitialspace=True)"
   ]
  },
  {
   "cell_type": "code",
   "execution_count": null,
   "metadata": {},
   "outputs": [],
   "source": [
    "delhi_data.fillna(0)"
   ]
  },
  {
   "cell_type": "code",
   "execution_count": null,
   "metadata": {},
   "outputs": [],
   "source": [
    "delhi_data.drop('_precipm',axis=1)"
   ]
  },
  {
   "cell_type": "markdown",
   "metadata": {},
   "source": [
    "# 2. Make a plot of different numeric features like rain, snow, dewptm, etc. over the duration of a month or year or day."
   ]
  },
  {
   "cell_type": "code",
   "execution_count": null,
   "metadata": {},
   "outputs": [],
   "source": [
    "delhi_data['Date'] = pd.to_datetime(delhi_data['datetime_utc'])\n",
    "delhi_data['year'] = delhi_data['Date'].dt.year\n",
    "delhi_data['month'] = delhi_data['Date'].dt.month\n",
    "delhi_data['day'] = delhi_data['Date'].dt.day\n",
    "delhi_data['hour'] = delhi_data['Date'].dt.hour"
   ]
  },
  {
   "cell_type": "markdown",
   "metadata": {},
   "source": [
    "# Rain"
   ]
  },
  {
   "cell_type": "code",
   "execution_count": null,
   "metadata": {
    "scrolled": true
   },
   "outputs": [],
   "source": [
    "rain=delhi_data.groupby(delhi_data.year).mean()\n",
    "rain. _rain.plot(linewidth=2)\n",
    "r = rain. _rain\n",
    "plt.title(\"Average Rain per year in Delhi\")\n",
    "plt.xlabel('year')"
   ]
  },
  {
   "cell_type": "markdown",
   "metadata": {},
   "source": [
    "# Dew"
   ]
  },
  {
   "cell_type": "code",
   "execution_count": null,
   "metadata": {
    "scrolled": true
   },
   "outputs": [],
   "source": [
    "dew=delhi_data.groupby(delhi_data.year).mean()\n",
    "dew. _dewptm.plot(linewidth=2)\n",
    "d=dew. _dewptm\n",
    "plt.title(\"Average Dew per year in Delhi\")\n",
    "plt.xlabel('year')"
   ]
  },
  {
   "cell_type": "markdown",
   "metadata": {},
   "source": [
    "# Fog"
   ]
  },
  {
   "cell_type": "code",
   "execution_count": null,
   "metadata": {
    "scrolled": true
   },
   "outputs": [],
   "source": [
    "fog=delhi_data.groupby(delhi_data.year).mean()\n",
    "fog. _fog.plot(linewidth=2)\n",
    "f=fog. _fog\n",
    "plt.title(\"Average Fog per year in Delhi\")\n",
    "plt.xlabel('year')"
   ]
  },
  {
   "cell_type": "markdown",
   "metadata": {},
   "source": [
    "# Hail"
   ]
  },
  {
   "cell_type": "code",
   "execution_count": null,
   "metadata": {
    "scrolled": true
   },
   "outputs": [],
   "source": [
    "hail=delhi_data.groupby(delhi_data.year).mean()\n",
    "hail. _hail.plot(linewidth=2)\n",
    "h=hail. _hail\n",
    "plt.title(\"Average hail per year in Delhi\")\n",
    "plt.xlabel('year')"
   ]
  },
  {
   "cell_type": "markdown",
   "metadata": {},
   "source": [
    "# Heat"
   ]
  },
  {
   "cell_type": "code",
   "execution_count": null,
   "metadata": {
    "scrolled": true
   },
   "outputs": [],
   "source": [
    "heat=delhi_data.groupby(delhi_data.month).mean()\n",
    "heat. _heatindexm.plot(linewidth=2)\n",
    "he=heat. _heatindexm\n",
    "plt.title(\"Average heat per year in Delhi\")\n",
    "plt.xlabel('year')"
   ]
  },
  {
   "cell_type": "markdown",
   "metadata": {},
   "source": [
    "# Humidity"
   ]
  },
  {
   "cell_type": "code",
   "execution_count": null,
   "metadata": {
    "scrolled": true
   },
   "outputs": [],
   "source": [
    "humidity=delhi_data.groupby(delhi_data.year).mean()\n",
    "humidity. _hum.plot(linewidth=2)\n",
    "hum=humidity. _hum\n",
    "plt.title(\"Average humidity per year in Delhi\")\n",
    "plt.xlabel('year')"
   ]
  },
  {
   "cell_type": "markdown",
   "metadata": {},
   "source": [
    "# Pressure"
   ]
  },
  {
   "cell_type": "code",
   "execution_count": null,
   "metadata": {
    "scrolled": false
   },
   "outputs": [],
   "source": [
    "pressure=delhi_data.groupby(delhi_data.year).mean()\n",
    "pressure. _pressurem.plot(linewidth=2)\n",
    "pre=pressure. _pressurem\n",
    "plt.title(\"Average pressure per year in Delhi\")\n",
    "plt.xlabel('year')"
   ]
  },
  {
   "cell_type": "markdown",
   "metadata": {},
   "source": [
    "# Snow"
   ]
  },
  {
   "cell_type": "code",
   "execution_count": null,
   "metadata": {
    "scrolled": true
   },
   "outputs": [],
   "source": [
    "snow=delhi_data.groupby(delhi_data.year).mean()\n",
    "snow. _snow.plot(linewidth=2)\n",
    "sn=snow. _snow\n",
    "plt.title(\"Average Snow per year in Delhi\")\n",
    "plt.xlabel('year')"
   ]
  },
  {
   "cell_type": "markdown",
   "metadata": {},
   "source": [
    "# Temperature"
   ]
  },
  {
   "cell_type": "code",
   "execution_count": null,
   "metadata": {
    "scrolled": true
   },
   "outputs": [],
   "source": [
    "temp=delhi_data.groupby(delhi_data.year).mean()\n",
    "temp. _tempm.plot(linewidth=2)\n",
    "te=temp. _tempm\n",
    "plt.title(\"Average Temperature per year in Delhi\")\n",
    "plt.xlabel('year')"
   ]
  },
  {
   "cell_type": "markdown",
   "metadata": {},
   "source": [
    "# Thunder"
   ]
  },
  {
   "cell_type": "code",
   "execution_count": null,
   "metadata": {
    "scrolled": true
   },
   "outputs": [],
   "source": [
    "thunder=delhi_data.groupby(delhi_data.year).mean()\n",
    "thunder. _thunder.plot(linewidth=2)\n",
    "th=thunder. _thunder\n",
    "plt.title(\"Average Thunder per year in Delhi\")\n",
    "plt.xlabel('year')"
   ]
  },
  {
   "cell_type": "markdown",
   "metadata": {},
   "source": [
    "# Tornado"
   ]
  },
  {
   "cell_type": "code",
   "execution_count": null,
   "metadata": {
    "scrolled": false
   },
   "outputs": [],
   "source": [
    "tornado=delhi_data.groupby(delhi_data.year).mean()\n",
    "tornado. _tornado.plot(linewidth=2)\n",
    "to=tornado. _tornado\n",
    "plt.title(\"Average Tornado per year in Delhi\")\n",
    "plt.xlabel('year')"
   ]
  },
  {
   "cell_type": "markdown",
   "metadata": {},
   "source": [
    "# Vism"
   ]
  },
  {
   "cell_type": "code",
   "execution_count": null,
   "metadata": {
    "scrolled": false
   },
   "outputs": [],
   "source": [
    "vism=delhi_data.groupby(delhi_data.year).mean()\n",
    "vism. _vism.plot(linewidth=2)\n",
    "vi=vism. _vism\n",
    "plt.title(\"Average vism per year in Delhi\")\n",
    "plt.xlabel('year')"
   ]
  },
  {
   "cell_type": "markdown",
   "metadata": {},
   "source": [
    "# Wind direction"
   ]
  },
  {
   "cell_type": "code",
   "execution_count": null,
   "metadata": {
    "scrolled": true
   },
   "outputs": [],
   "source": [
    "wdird=delhi_data.groupby(delhi_data.year).mean()\n",
    "wdird. _wdird.plot(linewidth=2)\n",
    "wd=wdird. _wdird\n",
    "plt.title(\"Average wind direction per year in Delhi\")\n",
    "plt.xlabel('year')"
   ]
  },
  {
   "cell_type": "markdown",
   "metadata": {},
   "source": [
    "# Wind Speed"
   ]
  },
  {
   "cell_type": "code",
   "execution_count": null,
   "metadata": {
    "scrolled": false
   },
   "outputs": [],
   "source": [
    "wspdm=delhi_data.groupby(delhi_data.year).mean()\n",
    "wspdm. _wspdm.plot(linewidth=2)\n",
    "ws=wspdm. _wspdm\n",
    "plt.title(\"Average wind speed per year in Delhi\")\n",
    "plt.xlabel('year')"
   ]
  },
  {
   "cell_type": "markdown",
   "metadata": {},
   "source": [
    "# Wgustm"
   ]
  },
  {
   "cell_type": "code",
   "execution_count": null,
   "metadata": {},
   "outputs": [],
   "source": [
    "wgustm=delhi_data.groupby(delhi_data.month).mean()\n",
    "wgustm. _wgustm.plot(linewidth=2)\n",
    "wg=wgustm. _wgustm\n",
    "plt.title(\"Average wind speed per year in Delhi\")\n",
    "plt.xlabel('Month')"
   ]
  },
  {
   "cell_type": "markdown",
   "metadata": {},
   "source": [
    "# Windchillm"
   ]
  },
  {
   "cell_type": "code",
   "execution_count": null,
   "metadata": {},
   "outputs": [],
   "source": [
    "windchill=delhi_data.groupby(delhi_data.month).mean()\n",
    "windchill. _windchillm.plot(linewidth=2)\n",
    "wi=windchill. _windchillm\n",
    "plt.title(\"Average wind speed per year in Delhi\")\n",
    "plt.xlabel('Month')"
   ]
  },
  {
   "cell_type": "markdown",
   "metadata": {},
   "source": [
    "# Subplot"
   ]
  },
  {
   "cell_type": "code",
   "execution_count": null,
   "metadata": {},
   "outputs": [],
   "source": [
    "fig = plt.figure(figsize=(16,16))\n",
    "plt1 = fig.add_subplot(241)\n",
    "plt2 = fig.add_subplot(242)\n",
    "plt3 = fig.add_subplot(243)\n",
    "plt4 = fig.add_subplot(244)\n",
    "plt5 = fig.add_subplot(245)\n",
    "plt6 = fig.add_subplot(246)\n",
    "plt7 = fig.add_subplot(247)\n",
    "plt8 = fig.add_subplot(248)\n",
    "plt1.plot(r)\n",
    "plt2.plot(d)\n",
    "plt3.plot(f)\n",
    "plt4.plot(h)\n",
    "plt5.plot(he)\n",
    "plt6.plot(hum)\n",
    "plt7.plot(pre)\n",
    "plt8.plot(sn)"
   ]
  },
  {
   "cell_type": "code",
   "execution_count": null,
   "metadata": {},
   "outputs": [],
   "source": [
    "fig = plt.figure(figsize=(16,16))\n",
    "plt1 = fig.add_subplot(241)\n",
    "plt2 = fig.add_subplot(242)\n",
    "plt3 = fig.add_subplot(243)\n",
    "plt4 = fig.add_subplot(244)\n",
    "plt5 = fig.add_subplot(245)\n",
    "plt6 = fig.add_subplot(246)\n",
    "plt7 = fig.add_subplot(247)\n",
    "plt8 = fig.add_subplot(248)\n",
    "plt1.plot(te)\n",
    "plt2.plot(th)\n",
    "plt3.plot(to)\n",
    "plt4.plot(vi)\n",
    "plt5.plot(wd)\n",
    "plt6.plot(ws)\n",
    "plt7.plot(wg)\n",
    "plt8.plot(wi)"
   ]
  },
  {
   "cell_type": "markdown",
   "metadata": {},
   "source": [
    "# Pie Chart"
   ]
  },
  {
   "cell_type": "markdown",
   "metadata": {},
   "source": [
    "# January"
   ]
  },
  {
   "cell_type": "code",
   "execution_count": null,
   "metadata": {},
   "outputs": [],
   "source": [
    "activities = ['Haze','Fog','Smoke','Mist','Shallow Fog']\n",
    "colors = ['r', 'm', 'g', 'b','y']\n",
    "slices=[]\n",
    "for i in activities:\n",
    "    slices.append(len(delhi_data[(delhi_data['month']==1) & (delhi_data['_conds']==i)]))\n",
    "plt.pie(slices, labels=activities, colors=colors, shadow=True, autopct=\"%1.1f%%\", startangle=90)\n",
    "\n",
    "plt.legend(loc=(1,1))\n",
    "plt.title('January')\n",
    "plt.show()"
   ]
  },
  {
   "cell_type": "markdown",
   "metadata": {},
   "source": [
    "# February"
   ]
  },
  {
   "cell_type": "code",
   "execution_count": null,
   "metadata": {
    "scrolled": true
   },
   "outputs": [],
   "source": [
    "activities = ['Haze','Clear','Smoke','Mist','Shallow Fog']\n",
    "colors = ['r', 'm', 'g', 'b','y']\n",
    "slices=[]\n",
    "for i in activities:\n",
    "    slices.append(len(delhi_data[(delhi_data['month']==2) & (delhi_data['_conds']==i)]))\n",
    "plt.pie(slices, labels=activities, colors=colors, shadow=True, autopct=\"%1.1f%%\", startangle=90)\n",
    "\n",
    "plt.legend(loc=(1,1))\n",
    "plt.title('February')\n",
    "plt.show()"
   ]
  },
  {
   "cell_type": "markdown",
   "metadata": {},
   "source": [
    "# March"
   ]
  },
  {
   "cell_type": "code",
   "execution_count": null,
   "metadata": {},
   "outputs": [],
   "source": [
    "\n",
    "\n",
    "activities = ['Haze','Smoke','Mist']\n",
    "colors = ['r', 'm', 'g']\n",
    "slices=[]\n",
    "for i in activities:\n",
    "    slices.append(len(delhi_data[(delhi_data['month']==3) & (delhi_data['_conds']==i)]))\n",
    "plt.pie(slices, labels=activities, colors=colors, shadow=True, autopct=\"%1.1f%%\", startangle=90)\n",
    "\n",
    "plt.legend(loc=(1,1))\n",
    "plt.title('March')\n",
    "plt.show()"
   ]
  },
  {
   "cell_type": "markdown",
   "metadata": {},
   "source": [
    "# April"
   ]
  },
  {
   "cell_type": "code",
   "execution_count": null,
   "metadata": {},
   "outputs": [],
   "source": [
    "activities = ['Haze','Smoke','Widespread Dust','Clear']\n",
    "colors = ['r', 'm', 'g', 'b','y']\n",
    "slices=[]\n",
    "for i in activities:\n",
    "    slices.append(len(delhi_data[(delhi_data['month']==4) & (delhi_data['_conds']==i)]))\n",
    "plt.pie(slices, labels=activities, colors=colors, shadow=True, autopct=\"%1.1f%%\", startangle=90)\n",
    "\n",
    "plt.legend(loc=(1,1))\n",
    "plt.title('April')\n",
    "plt.show()"
   ]
  },
  {
   "cell_type": "markdown",
   "metadata": {},
   "source": [
    "# May"
   ]
  },
  {
   "cell_type": "code",
   "execution_count": null,
   "metadata": {},
   "outputs": [],
   "source": [
    "activities = ['Haze','Clear','Widespread Dust','Smoke','Scattered Clouds','Partly Cloudy']\n",
    "colors = ['r', 'm', 'g', 'b','y','pink']\n",
    "slices=[]\n",
    "for i in activities:\n",
    "    slices.append(len(delhi_data[(delhi_data['month']==5) & (delhi_data['_conds']==i)]))\n",
    "plt.pie(slices, labels=activities, colors=colors, shadow=True, autopct=\"%1.1f%%\", startangle=90)\n",
    "\n",
    "plt.legend(loc=(1,1))\n",
    "plt.title('May')\n",
    "plt.show()"
   ]
  },
  {
   "cell_type": "markdown",
   "metadata": {},
   "source": [
    "# June"
   ]
  },
  {
   "cell_type": "code",
   "execution_count": null,
   "metadata": {},
   "outputs": [],
   "source": [
    "activities = ['Haze','Widespread Dust','Partly Cloudy']\n",
    "colors = ['r', 'm', 'g']\n",
    "slices=[]\n",
    "for i in activities:\n",
    "    slices.append(len(delhi_data[(delhi_data['month']==6) & (delhi_data['_conds']==i)]))\n",
    "plt.pie(slices, labels=activities, colors=colors, shadow=True, autopct=\"%1.1f%%\", startangle=90)\n",
    "\n",
    "plt.legend(loc=(1,1))\n",
    "plt.title('June')\n",
    "plt.show()"
   ]
  },
  {
   "cell_type": "markdown",
   "metadata": {},
   "source": [
    "# July"
   ]
  },
  {
   "cell_type": "code",
   "execution_count": null,
   "metadata": {},
   "outputs": [],
   "source": [
    "activities = ['Haze','Mist','Light Rain']\n",
    "colors = ['r', 'pink', 'g']\n",
    "slices=[]\n",
    "for i in activities:\n",
    "    slices.append(len(delhi_data[(delhi_data['month']==7) & (delhi_data['_conds']==i)]))\n",
    "plt.pie(slices, labels=activities, colors=colors, shadow=True, autopct=\"%1.1f%%\", startangle=90)\n",
    "\n",
    "plt.legend(loc=(1,1))\n",
    "plt.title('July')\n",
    "plt.show()"
   ]
  },
  {
   "cell_type": "markdown",
   "metadata": {},
   "source": [
    "# August"
   ]
  },
  {
   "cell_type": "code",
   "execution_count": null,
   "metadata": {},
   "outputs": [],
   "source": [
    "activities = ['Haze','Mist','Light Rain']\n",
    "colors = ['y', 'pink','b']\n",
    "slices=[]\n",
    "for i in activities:\n",
    "    slices.append(len(delhi_data[(delhi_data['month']==8) & (delhi_data['_conds']==i)]))\n",
    "plt.pie(slices, labels=activities, colors=colors, shadow=True, autopct=\"%1.1f%%\", startangle=90)\n",
    "\n",
    "plt.legend(loc=(1,1))\n",
    "plt.title('August')\n",
    "plt.show()"
   ]
  },
  {
   "cell_type": "markdown",
   "metadata": {},
   "source": [
    "# September"
   ]
  },
  {
   "cell_type": "code",
   "execution_count": null,
   "metadata": {
    "scrolled": true
   },
   "outputs": [],
   "source": [
    "activities = ['Haze','Mist']\n",
    "colors = ['y', 'pink']\n",
    "slices=[]\n",
    "for i in activities:\n",
    "    slices.append(len(delhi_data[(delhi_data['month']==9) & (delhi_data['_conds']==i)]))\n",
    "plt.pie(slices, labels=activities, colors=colors, shadow=True, autopct=\"%1.1f%%\", startangle=90)\n",
    "\n",
    "plt.legend(loc=(1,1))\n",
    "plt.title('September')\n",
    "plt.show()"
   ]
  },
  {
   "cell_type": "markdown",
   "metadata": {},
   "source": [
    "# October"
   ]
  },
  {
   "cell_type": "code",
   "execution_count": null,
   "metadata": {},
   "outputs": [],
   "source": [
    "activities = ['Haze','Mist','Smoke']\n",
    "colors = ['r', 'pink','blue']\n",
    "slices=[]\n",
    "for i in activities:\n",
    "    slices.append(len(delhi_data[(delhi_data['month']==10) & (delhi_data['_conds']==i)]))\n",
    "plt.pie(slices, labels=activities, colors=colors, shadow=True, autopct=\"%1.1f%%\", startangle=90)\n",
    "\n",
    "plt.legend(loc=(1,1))\n",
    "plt.title('October')\n",
    "plt.show()"
   ]
  },
  {
   "cell_type": "markdown",
   "metadata": {},
   "source": [
    "# November"
   ]
  },
  {
   "cell_type": "code",
   "execution_count": null,
   "metadata": {},
   "outputs": [],
   "source": [
    "activities = ['Haze','Mist','Smoke']\n",
    "colors = ['y', 'pink','r']\n",
    "slices=[]\n",
    "for i in activities:\n",
    "    slices.append(len(delhi_data[(delhi_data['month']==11) & (delhi_data['_conds']==i)]))\n",
    "plt.pie(slices, labels=activities, colors=colors, shadow=True, autopct=\"%1.1f%%\", startangle=90)\n",
    "\n",
    "plt.legend(loc=(1,1))\n",
    "plt.title('November')\n",
    "plt.show()"
   ]
  },
  {
   "cell_type": "markdown",
   "metadata": {},
   "source": [
    "# December"
   ]
  },
  {
   "cell_type": "code",
   "execution_count": null,
   "metadata": {},
   "outputs": [],
   "source": [
    "activities = ['Haze','Mist','Fog','Smoke','Partial Fog','Shallow Fog']\n",
    "colors = ['y', 'pink','b','g','m']\n",
    "slices=[]\n",
    "for i in activities:\n",
    "    slices.append(len(delhi_data[(delhi_data['month']==12) & (delhi_data['_conds']==i)]))\n",
    "plt.pie(slices, labels=activities, colors=colors, shadow=True, autopct=\"%1.1f%%\", startangle=90)\n",
    "\n",
    "plt.legend(loc=(1,1))\n",
    "plt.title('December')\n",
    "plt.show()"
   ]
  }
 ],
 "metadata": {
  "kernelspec": {
   "display_name": "Python 3",
   "language": "python",
   "name": "python3"
  },
  "language_info": {
   "codemirror_mode": {
    "name": "ipython",
    "version": 3
   },
   "file_extension": ".py",
   "mimetype": "text/x-python",
   "name": "python",
   "nbconvert_exporter": "python",
   "pygments_lexer": "ipython3",
   "version": "3.7.3"
  }
 },
 "nbformat": 4,
 "nbformat_minor": 2
}
