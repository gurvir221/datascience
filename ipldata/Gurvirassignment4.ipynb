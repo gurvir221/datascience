{
 "cells": [
  {
   "cell_type": "markdown",
   "metadata": {},
   "source": [
    "# 1. Which team has won/lost maximum number of matches while chasing?"
   ]
  },
  {
   "cell_type": "code",
   "execution_count": null,
   "metadata": {},
   "outputs": [],
   "source": [
    "import pandas as pd"
   ]
  },
  {
   "cell_type": "code",
   "execution_count": null,
   "metadata": {},
   "outputs": [],
   "source": [
    "matches_data=pd.read_csv(\"matches.csv\")"
   ]
  },
  {
   "cell_type": "code",
   "execution_count": null,
   "metadata": {},
   "outputs": [],
   "source": [
    "winning_teams=matches_data[matches_data['team2']==matches_data['winner']]"
   ]
  },
  {
   "cell_type": "code",
   "execution_count": null,
   "metadata": {},
   "outputs": [],
   "source": [
    "winner=winning_teams['team2'].value_counts()"
   ]
  },
  {
   "cell_type": "code",
   "execution_count": null,
   "metadata": {},
   "outputs": [],
   "source": [
    "print(winner.index[0],\"has won maximum number of matches while chasing.\")"
   ]
  },
  {
   "cell_type": "code",
   "execution_count": null,
   "metadata": {},
   "outputs": [],
   "source": [
    "losing_teams2=matches_data[matches_data['team1']==matches_data['winner']]"
   ]
  },
  {
   "cell_type": "code",
   "execution_count": null,
   "metadata": {},
   "outputs": [],
   "source": [
    "loser=losing_teams2['team2'].value_counts()"
   ]
  },
  {
   "cell_type": "code",
   "execution_count": null,
   "metadata": {},
   "outputs": [],
   "source": [
    "print(loser.index[0],\"has lost maximum number of times while chasing.\")"
   ]
  },
  {
   "cell_type": "markdown",
   "metadata": {},
   "source": [
    "# 2. Which toss decision is best for each ground?"
   ]
  },
  {
   "cell_type": "code",
   "execution_count": null,
   "metadata": {},
   "outputs": [],
   "source": [
    "team1=matches_data[matches_data['team1']==matches_data['winner']]\n",
    "team2=matches_data[matches_data['team2']==matches_data['winner']]\n",
    "grounds=team1['venue'].value_counts().index\n",
    "\n",
    "for ground in grounds:\n",
    "    if(team1['venue'].value_counts()[ground]>team2['venue'].value_counts()[ground]):\n",
    "        print(ground+' is best for Batting')\n",
    "    else :\n",
    "        print(ground+' is best for Fielding')"
   ]
  },
  {
   "cell_type": "markdown",
   "metadata": {},
   "source": [
    "# 3. Which player has won maximum number of MoM awards while chasing?"
   ]
  },
  {
   "cell_type": "code",
   "execution_count": null,
   "metadata": {},
   "outputs": [],
   "source": [
    "mom=matches_data[matches_data['team2']==matches_data['winner']]['player_of_match'].value_counts().index[0]\n",
    "print(mom,'has won maximum number of Mom awards while chasing.')"
   ]
  },
  {
   "cell_type": "markdown",
   "metadata": {},
   "source": [
    "# 4. Which batsman has played maximum number of dot balls?"
   ]
  },
  {
   "cell_type": "code",
   "execution_count": null,
   "metadata": {},
   "outputs": [],
   "source": [
    "deliveries_data=pd.read_csv(\"deliveries.csv\")"
   ]
  },
  {
   "cell_type": "code",
   "execution_count": null,
   "metadata": {
    "scrolled": true
   },
   "outputs": [],
   "source": [
    "dot_player=deliveries_data.query(\"total_runs==0\")['batsman'].value_counts().index[0]\n",
    "print(dot_player,\"has played maximum number of dot balls\")"
   ]
  },
  {
   "cell_type": "markdown",
   "metadata": {},
   "source": [
    "# 5. Which batsmen came to crease but never got a chance to face a ball?"
   ]
  },
  {
   "cell_type": "code",
   "execution_count": null,
   "metadata": {},
   "outputs": [],
   "source": [
    "batsman=deliveries_data['batsman']\n",
    "no_striker=deliveries_data[~deliveries_data['non_striker'].isin(batsman)]\n",
    "ans=no_striker['non_striker'].value_counts()\n",
    "l=len(ans)\n",
    "print(\"Batsmen came to crease but never got a chance to face a ball are: \")\n",
    "for i in range(l):\n",
    "    print(ans.index[i])"
   ]
  },
  {
   "cell_type": "markdown",
   "metadata": {},
   "source": [
    "# 6. Which bowler has hit for maximum number of 1s/2s/3s/4s/6s?"
   ]
  },
  {
   "cell_type": "code",
   "execution_count": null,
   "metadata": {},
   "outputs": [],
   "source": [
    "ones=deliveries_data.query(\"total_runs==1\")['bowler'].value_counts().index[0]\n",
    "print(ones,'has hit for maximum number of 1s.')"
   ]
  },
  {
   "cell_type": "code",
   "execution_count": null,
   "metadata": {},
   "outputs": [],
   "source": [
    "twos=deliveries_data.query(\"total_runs==2\")['bowler'].value_counts().index[0]\n",
    "print(twos,'has hit for maximum number of 2s.')"
   ]
  },
  {
   "cell_type": "code",
   "execution_count": null,
   "metadata": {},
   "outputs": [],
   "source": [
    "threes=deliveries_data.query(\"total_runs==3\")['bowler'].value_counts().index[0]\n",
    "print(threes,'has hit for maximum number of 3s.')"
   ]
  },
  {
   "cell_type": "code",
   "execution_count": null,
   "metadata": {},
   "outputs": [],
   "source": [
    "fours=deliveries_data.query(\"total_runs==4\")['bowler'].value_counts().index[0]\n",
    "print(fours,'has hit for maximum number of 4s.')"
   ]
  },
  {
   "cell_type": "code",
   "execution_count": null,
   "metadata": {},
   "outputs": [],
   "source": [
    "sixes=deliveries_data.query(\"total_runs==6\")['bowler'].value_counts().index[0]\n",
    "print(sixes,'has hit for maximum number of 6s.')"
   ]
  },
  {
   "cell_type": "markdown",
   "metadata": {},
   "source": [
    "# 7. Which batsman got stumped out maximum number of times?"
   ]
  },
  {
   "cell_type": "code",
   "execution_count": null,
   "metadata": {},
   "outputs": [],
   "source": [
    "stump=deliveries_data.query(\"dismissal_kind=='stumped'\")['batsman'].value_counts().index[0]\n",
    "print(stump,\"got stumped out maximum number of times.\")"
   ]
  },
  {
   "cell_type": "markdown",
   "metadata": {},
   "source": [
    "# 8.  Which non-striker has been part of maximum number of runouts?"
   ]
  },
  {
   "cell_type": "code",
   "execution_count": null,
   "metadata": {},
   "outputs": [],
   "source": [
    "runout=deliveries_data.query(\"non_striker==player_dismissed\")['non_striker'].value_counts()\n",
    "i=0\n",
    "while True:\n",
    "    if(runout.values[i]==runout.values[0]):\n",
    "        print(runout.index[i])\n",
    "        i+=1\n",
    "    else: \n",
    "        break"
   ]
  },
  {
   "cell_type": "markdown",
   "metadata": {},
   "source": [
    "# 9. Make at least 5 more new queries and find answers to them."
   ]
  },
  {
   "cell_type": "markdown",
   "metadata": {},
   "source": [
    "# a. Total super overs"
   ]
  },
  {
   "cell_type": "code",
   "execution_count": null,
   "metadata": {},
   "outputs": [],
   "source": [
    "super_over=deliveries_data.query(\"is_super_over==1\")['is_super_over'].value_counts().values[0]\n",
    "print(\"Total number of super overs are\",super_over)"
   ]
  },
  {
   "cell_type": "markdown",
   "metadata": {},
   "source": [
    "# b. Which team has won by the highest margin?"
   ]
  },
  {
   "cell_type": "code",
   "execution_count": null,
   "metadata": {},
   "outputs": [],
   "source": [
    "winner=matches_data[matches_data['win_by_runs']==max(matches_data['win_by_runs'])]['winner'].values[0]\n",
    "print(winner,\"has won by the highest margin of\",max(matches_data['win_by_runs']))"
   ]
  },
  {
   "cell_type": "markdown",
   "metadata": {},
   "source": [
    "# c. Which Batsman has hit the maximum number of Sixes?"
   ]
  },
  {
   "cell_type": "code",
   "execution_count": null,
   "metadata": {},
   "outputs": [],
   "source": [
    "player=deliveries_data.query('batsman_runs==6')['batsman'].value_counts().index[0]\n",
    "print(player,'has hit the maximum number of sixes.')"
   ]
  },
  {
   "cell_type": "markdown",
   "metadata": {},
   "source": [
    "# d. Which Batsman has hit the Maximum number of Fours?"
   ]
  },
  {
   "cell_type": "code",
   "execution_count": null,
   "metadata": {},
   "outputs": [],
   "source": [
    "player=deliveries_data.query('batsman_runs==4')['batsman'].value_counts().index[0]\n",
    "print(player,'has hit the maximum number of fours.')"
   ]
  },
  {
   "cell_type": "markdown",
   "metadata": {},
   "source": [
    "# e. Which team has won maximum number of times?"
   ]
  },
  {
   "cell_type": "code",
   "execution_count": null,
   "metadata": {},
   "outputs": [],
   "source": [
    "winner=matches_data['winner'].value_counts().index[0]\n",
    "print(winner,'has won maximum number of times.')"
   ]
  }
 ],
 "metadata": {
  "kernelspec": {
   "display_name": "Python 3",
   "language": "python",
   "name": "python3"
  },
  "language_info": {
   "codemirror_mode": {
    "name": "ipython",
    "version": 3
   },
   "file_extension": ".py",
   "mimetype": "text/x-python",
   "name": "python",
   "nbconvert_exporter": "python",
   "pygments_lexer": "ipython3",
   "version": "3.7.3"
  }
 },
 "nbformat": 4,
 "nbformat_minor": 2
}
